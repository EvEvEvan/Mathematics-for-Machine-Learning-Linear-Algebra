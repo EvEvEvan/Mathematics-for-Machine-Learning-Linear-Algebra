{
 "cells": [
  {
   "cell_type": "markdown",
   "metadata": {},
   "source": [
    "# Reflecting Bear\n",
    "## Background\n",
    "Panda Bear is confused. He is trying to work out how things should look when reflected in a mirror, but is getting the wrong results.\n",
    "In Bear's coordinates, the mirror lies along the first axis.\n",
    "But, as is the way with bears, his coordinate system is not orthonormal: so what he thinks is the direction perpendicular to the mirror isn't actually the direction the mirror reflects in.\n",
    "Help Bear write a code that will do his matrix calculations properly! \n",
    "\n",
    "## Instructions\n",
    "In this assignment you will write a Python function that will produce a transformation matrix for reflecting vectors in an arbitrarily angled mirror.\n",
    "\n",
    "Building on the last assingment, where you wrote a code to construct an orthonormal basis that spans a set of input vectors, here you will take a matrix which takes simple form in that basis, and transform it into our starting basis.\n",
    "Recall the from the last video,\n",
    "\n",
    "\\\\( T = E T_E E^{-1} \\\\)\n",
    "\n",
    "You will write a function that will construct this matrix.\n",
    "This assessment is not conceptually complicated, but will build and test your ability to express mathematical ideas in code.\n",
    "As such, your final code submission will be relatively short, but you will receive less structure on how to write it.\n",
    "\n",
    "### Matrices in Python\n",
    "For this exercise, we shall make use of the @ operator again.\n",
    "Recall from the last exercise, we used this operator to take the dot product of vectors.\n",
    "In general the operator will combine vectors and/or matrices in the expected linear algebra way,\n",
    "i.e. it will be either the vector dot product, matrix multiplication, or matrix operation on a vector, depending on it's input.\n",
    "For example to calculate the following expressions,\n",
    "\n",
    "\\\\( a = \\mathbf{s}\\cdot\\mathbf{t} \\\\)\n",
    "\n",
    "\\\\( \\mathbf{s} = A\\mathbf{t} \\\\)\n",
    "\n",
    "\\\\( M = A B \\\\),\n",
    "\n",
    "One would use the code,\n",
    "```python\n",
    "a = s @ t\n",
    "s = A @ t\n",
    "M = A @ B\n",
    "```\n",
    "(This is in contrast to the \\\\(*\\\\) operator, which performs element-wise multiplication, or multiplication by a scalar.)\n",
    "\n",
    "You may need to use some of the following functions:\n",
    "```python\n",
    "inv(A)\n",
    "transpose(A)\n",
    "gsBasis(A)\n",
    "```\n",
    "These, respectively, take the inverse of a matrix, give the transpose of a matrix, and produce a matrix of orthonormal column vectors given a general matrix of column vectors - i.e. perform the Gram-Schmidt process.\n",
    "This exercise will require you to combine some of these functions.\n",
    "\n",
    "### How to submit\n",
    "Edit the code in the cells below to complete the assignment.\n",
    "Once you are finished and happy with it, press the *Submit Assignment* button at the top of this notebook.\n",
    "\n",
    "Please don't change any of the function names, as these will be checked by the grading script.\n",
    "\n",
    "If you have further questions about submissions or programming assignments, here is a [list](https://www.coursera.org/learn/linear-algebra-machine-learning/discussions/weeks/1/threads/jB4klkn5EeibtBIQyzFmQg) of Q&A. You can also raise an issue on the discussion forum. Good luck!"
   ]
  },
  {
   "cell_type": "code",
   "execution_count": 1,
   "metadata": {
    "collapsed": true
   },
   "outputs": [],
   "source": [
    "# PACKAGE\n",
    "# Run this cell first once to load the dependancies.\n",
    "import numpy as np\n",
    "from numpy.linalg import norm, inv\n",
    "from numpy import transpose\n",
    "from readonly.bearNecessities import *"
   ]
  },
  {
   "cell_type": "code",
   "execution_count": 6,
   "metadata": {
    "collapsed": true
   },
   "outputs": [],
   "source": [
    "# GRADED FUNCTION\n",
    "# You should edit this cell.\n",
    "\n",
    "# In this function, you will return the transformation matrix T,\n",
    "# having built it out of an orthonormal basis set E that you create from Bear's Basis\n",
    "# and a transformation matrix in the mirror's coordinates TE.\n",
    "def build_reflection_matrix(bearBasis) : # The parameter bearBasis is a 2×2 matrix that is passed to the function.\n",
    "    # Use the gsBasis function on bearBasis to get the mirror's orthonormal basis.\n",
    "    E = gsBasis(bearBasis)\n",
    "    # Write a matrix in component form that performs the mirror's reflection in the mirror's basis.\n",
    "    # Recall, the mirror operates by negating the last component of a vector.\n",
    "    # Replace a,b,c,d with appropriate values\n",
    "    TE = np.array([[1, 0],\n",
    "                   [0, -1]])\n",
    "    # Combine the matrices E and TE to produce your transformation matrix.\n",
    "    T = E @ TE @ inv(E)\n",
    "    # Finally, we return the result. There is no need to change this line.\n",
    "    return T\n"
   ]
  },
  {
   "cell_type": "markdown",
   "metadata": {},
   "source": [
    "## Test your code before submission\n",
    "To test the code you've written above, run the cell (select the cell above, then press the play button [ ▶| ] or press shift-enter).\n",
    "You can then use the code below to test out your function.\n",
    "You don't need to submit this cell; you can edit and run it as much as you like.\n",
    "\n",
    "The code below will show a picture of Panda Bear.\n",
    "If you have correctly implemented the function above, you will also see Bear's reflection in his mirror.\n",
    "The orange axes are Bear's basis, and the pink axes are the mirror's orthonormal basis."
   ]
  },
  {
   "cell_type": "code",
   "execution_count": 7,
   "metadata": {},
   "outputs": [
    {
     "data": {
      "image/png": "[encoded data removed]",
      "text/plain": [
       "<matplotlib.figure.Figure at 0x7f1e96339438>"
      ]
     },
     "metadata": {},
     "output_type": "display_data"
    }
   ],
   "source": [
    "# First load Pyplot, a graph plotting library.\n",
    "%matplotlib inline\n",
    "import matplotlib.pyplot as plt\n",
    "\n",
    "# This is the matrix of Bear's basis vectors.\n",
    "# (When you've done the exercise once, see what happns when you change Bear's basis.)\n",
    "bearBasis = np.array(\n",
    "    [[1,   -1],\n",
    "     [1.5, 2]])\n",
    "# This line uses your code to build a transformation matrix for us to use.\n",
    "T = build_reflection_matrix(bearBasis)\n",
    "\n",
    "# Bear is drawn as a set of polygons, the vertices of which are placed as a matrix list of column vectors.\n",
    "# We have three of these non-square matrix lists: bear_white_fur, bear_black_fur, and bear_face.\n",
    "# We'll make new lists of vertices by applying the T matrix you've calculated.\n",
    "reflected_bear_white_fur = T @ bear_white_fur\n",
    "reflected_bear_black_fur = T @ bear_black_fur\n",
    "reflected_bear_face = T @ bear_face\n",
    "\n",
    "# This next line runs a code to set up the graphics environment.\n",
    "ax = draw_mirror(bearBasis)\n",
    "\n",
    "# We'll first plot Bear, his white fur, his black fur, and his face.\n",
    "ax.fill(bear_white_fur[0], bear_white_fur[1], color=bear_white, zorder=1)\n",
    "ax.fill(bear_black_fur[0], bear_black_fur[1], color=bear_black, zorder=2)\n",
    "ax.plot(bear_face[0], bear_face[1], color=bear_white, zorder=3)\n",
    "\n",
    "# Next we'll plot Bear's reflection.\n",
    "ax.fill(reflected_bear_white_fur[0], reflected_bear_white_fur[1], color=bear_white, zorder=1)\n",
    "ax.fill(reflected_bear_black_fur[0], reflected_bear_black_fur[1], color=bear_black, zorder=2)\n",
    "ax.plot(reflected_bear_face[0], reflected_bear_face[1], color=bear_white, zorder=3);\n"
   ]
  },
  {
   "cell_type": "code",
   "execution_count": null,
   "metadata": {
    "collapsed": true
   },
   "outputs": [],
   "source": []
  }
 ],
 "metadata": {
  "coursera": {
   "course_slug": "linear-algebra-machine-learning",
   "graded_item_id": "IAKuU",
   "graded_part_id": "JA4Og",
   "launcher_item_id": "Kd7ZX"
  },
  "kernelspec": {
   "display_name": "Python 3",
   "language": "python",
   "name": "python3"
  },
  "language_info": {
   "codemirror_mode": {
    "name": "ipython",
    "version": 3
   },
   "file_extension": ".py",
   "mimetype": "text/x-python",
   "name": "python",
   "nbconvert_exporter": "python",
   "pygments_lexer": "ipython3",
   "version": "3.6.2"
  }
 },
 "nbformat": 4,
 "nbformat_minor": 1
}
